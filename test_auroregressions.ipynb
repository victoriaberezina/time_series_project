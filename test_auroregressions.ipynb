{
 "cells": [
  {
   "cell_type": "code",
   "execution_count": 2,
   "metadata": {},
   "outputs": [],
   "source": [
    "import numpy as np\n",
    "import sklearn\n",
    "import pandas as pd\n",
    "from datetime import datetime\n",
    "from sklearn.model_selection import train_test_split\n",
    "import seaborn as sns\n",
    "import matplotlib.pyplot as plt\n",
    "from sklearn.metrics import mean_squared_error\n",
    "from sklearn.ensemble import RandomForestRegressor\n",
    "from sklearn.ensemble import AdaBoostRegressor\n",
    "from statsmodels.tsa.ar_model import AutoReg,ar_select_order\n",
    "from statsmodels.tsa.arima.model import ARIMA\n",
    "import random\n",
    "import math"
   ]
  },
  {
   "cell_type": "code",
   "execution_count": 28,
   "metadata": {},
   "outputs": [],
   "source": [
    "data=pd.read_csv('SolarPrediction.csv')"
   ]
  },
  {
   "cell_type": "code",
   "execution_count": 18,
   "metadata": {},
   "outputs": [
    {
     "name": "stdout",
     "output_type": "stream",
     "text": [
      "1472724008\n",
      "1483264501\n"
     ]
    }
   ],
   "source": [
    "print(data['UNIXTime'].min())\n",
    "print(data['UNIXTime'].max())"
   ]
  },
  {
   "cell_type": "code",
   "execution_count": 29,
   "metadata": {},
   "outputs": [],
   "source": [
    "data['UNIX']=data['UNIXTime']"
   ]
  },
  {
   "cell_type": "code",
   "execution_count": 21,
   "metadata": {},
   "outputs": [
    {
     "data": {
      "text/html": [
       "<div>\n",
       "<style scoped>\n",
       "    .dataframe tbody tr th:only-of-type {\n",
       "        vertical-align: middle;\n",
       "    }\n",
       "\n",
       "    .dataframe tbody tr th {\n",
       "        vertical-align: top;\n",
       "    }\n",
       "\n",
       "    .dataframe thead th {\n",
       "        text-align: right;\n",
       "    }\n",
       "</style>\n",
       "<table border=\"1\" class=\"dataframe\">\n",
       "  <thead>\n",
       "    <tr style=\"text-align: right;\">\n",
       "      <th></th>\n",
       "      <th>UNIXTime</th>\n",
       "      <th>Data</th>\n",
       "      <th>Time</th>\n",
       "      <th>Radiation</th>\n",
       "      <th>Temperature</th>\n",
       "      <th>Pressure</th>\n",
       "      <th>Humidity</th>\n",
       "      <th>WindDirection(Degrees)</th>\n",
       "      <th>Speed</th>\n",
       "      <th>TimeSunRise</th>\n",
       "      <th>TimeSunSet</th>\n",
       "      <th>UNIX</th>\n",
       "    </tr>\n",
       "  </thead>\n",
       "  <tbody>\n",
       "    <tr>\n",
       "      <th>0</th>\n",
       "      <td>1475229326</td>\n",
       "      <td>9/29/2016 12:00:00 AM</td>\n",
       "      <td>23:55:26</td>\n",
       "      <td>1.21</td>\n",
       "      <td>48</td>\n",
       "      <td>30.46</td>\n",
       "      <td>59</td>\n",
       "      <td>177.39</td>\n",
       "      <td>5.62</td>\n",
       "      <td>06:13:00</td>\n",
       "      <td>18:13:00</td>\n",
       "      <td>1475229326</td>\n",
       "    </tr>\n",
       "    <tr>\n",
       "      <th>1</th>\n",
       "      <td>1475229023</td>\n",
       "      <td>9/29/2016 12:00:00 AM</td>\n",
       "      <td>23:50:23</td>\n",
       "      <td>1.21</td>\n",
       "      <td>48</td>\n",
       "      <td>30.46</td>\n",
       "      <td>58</td>\n",
       "      <td>176.78</td>\n",
       "      <td>3.37</td>\n",
       "      <td>06:13:00</td>\n",
       "      <td>18:13:00</td>\n",
       "      <td>1475229023</td>\n",
       "    </tr>\n",
       "    <tr>\n",
       "      <th>2</th>\n",
       "      <td>1475228726</td>\n",
       "      <td>9/29/2016 12:00:00 AM</td>\n",
       "      <td>23:45:26</td>\n",
       "      <td>1.23</td>\n",
       "      <td>48</td>\n",
       "      <td>30.46</td>\n",
       "      <td>57</td>\n",
       "      <td>158.75</td>\n",
       "      <td>3.37</td>\n",
       "      <td>06:13:00</td>\n",
       "      <td>18:13:00</td>\n",
       "      <td>1475228726</td>\n",
       "    </tr>\n",
       "    <tr>\n",
       "      <th>3</th>\n",
       "      <td>1475228421</td>\n",
       "      <td>9/29/2016 12:00:00 AM</td>\n",
       "      <td>23:40:21</td>\n",
       "      <td>1.21</td>\n",
       "      <td>48</td>\n",
       "      <td>30.46</td>\n",
       "      <td>60</td>\n",
       "      <td>137.71</td>\n",
       "      <td>3.37</td>\n",
       "      <td>06:13:00</td>\n",
       "      <td>18:13:00</td>\n",
       "      <td>1475228421</td>\n",
       "    </tr>\n",
       "    <tr>\n",
       "      <th>4</th>\n",
       "      <td>1475228124</td>\n",
       "      <td>9/29/2016 12:00:00 AM</td>\n",
       "      <td>23:35:24</td>\n",
       "      <td>1.17</td>\n",
       "      <td>48</td>\n",
       "      <td>30.46</td>\n",
       "      <td>62</td>\n",
       "      <td>104.95</td>\n",
       "      <td>5.62</td>\n",
       "      <td>06:13:00</td>\n",
       "      <td>18:13:00</td>\n",
       "      <td>1475228124</td>\n",
       "    </tr>\n",
       "  </tbody>\n",
       "</table>\n",
       "</div>"
      ],
      "text/plain": [
       "     UNIXTime                   Data      Time  Radiation  Temperature  \\\n",
       "0  1475229326  9/29/2016 12:00:00 AM  23:55:26       1.21           48   \n",
       "1  1475229023  9/29/2016 12:00:00 AM  23:50:23       1.21           48   \n",
       "2  1475228726  9/29/2016 12:00:00 AM  23:45:26       1.23           48   \n",
       "3  1475228421  9/29/2016 12:00:00 AM  23:40:21       1.21           48   \n",
       "4  1475228124  9/29/2016 12:00:00 AM  23:35:24       1.17           48   \n",
       "\n",
       "   Pressure  Humidity  WindDirection(Degrees)  Speed TimeSunRise TimeSunSet  \\\n",
       "0     30.46        59                  177.39   5.62    06:13:00   18:13:00   \n",
       "1     30.46        58                  176.78   3.37    06:13:00   18:13:00   \n",
       "2     30.46        57                  158.75   3.37    06:13:00   18:13:00   \n",
       "3     30.46        60                  137.71   3.37    06:13:00   18:13:00   \n",
       "4     30.46        62                  104.95   5.62    06:13:00   18:13:00   \n",
       "\n",
       "         UNIX  \n",
       "0  1475229326  \n",
       "1  1475229023  \n",
       "2  1475228726  \n",
       "3  1475228421  \n",
       "4  1475228124  "
      ]
     },
     "execution_count": 21,
     "metadata": {},
     "output_type": "execute_result"
    }
   ],
   "source": [
    "data.head()"
   ]
  },
  {
   "cell_type": "code",
   "execution_count": 30,
   "metadata": {},
   "outputs": [],
   "source": [
    "data['UNIXTime']=pd.to_datetime(data['UNIXTime'], unit='s')"
   ]
  },
  {
   "cell_type": "code",
   "execution_count": 31,
   "metadata": {},
   "outputs": [
    {
     "data": {
      "text/html": [
       "<div>\n",
       "<style scoped>\n",
       "    .dataframe tbody tr th:only-of-type {\n",
       "        vertical-align: middle;\n",
       "    }\n",
       "\n",
       "    .dataframe tbody tr th {\n",
       "        vertical-align: top;\n",
       "    }\n",
       "\n",
       "    .dataframe thead th {\n",
       "        text-align: right;\n",
       "    }\n",
       "</style>\n",
       "<table border=\"1\" class=\"dataframe\">\n",
       "  <thead>\n",
       "    <tr style=\"text-align: right;\">\n",
       "      <th></th>\n",
       "      <th>UNIXTime</th>\n",
       "      <th>Data</th>\n",
       "      <th>Time</th>\n",
       "      <th>Radiation</th>\n",
       "      <th>Temperature</th>\n",
       "      <th>Pressure</th>\n",
       "      <th>Humidity</th>\n",
       "      <th>WindDirection(Degrees)</th>\n",
       "      <th>Speed</th>\n",
       "      <th>TimeSunRise</th>\n",
       "      <th>TimeSunSet</th>\n",
       "      <th>UNIX</th>\n",
       "    </tr>\n",
       "  </thead>\n",
       "  <tbody>\n",
       "    <tr>\n",
       "      <th>0</th>\n",
       "      <td>2016-09-30 09:55:26</td>\n",
       "      <td>9/29/2016 12:00:00 AM</td>\n",
       "      <td>23:55:26</td>\n",
       "      <td>1.21</td>\n",
       "      <td>48</td>\n",
       "      <td>30.46</td>\n",
       "      <td>59</td>\n",
       "      <td>177.39</td>\n",
       "      <td>5.62</td>\n",
       "      <td>06:13:00</td>\n",
       "      <td>18:13:00</td>\n",
       "      <td>1475229326</td>\n",
       "    </tr>\n",
       "    <tr>\n",
       "      <th>1</th>\n",
       "      <td>2016-09-30 09:50:23</td>\n",
       "      <td>9/29/2016 12:00:00 AM</td>\n",
       "      <td>23:50:23</td>\n",
       "      <td>1.21</td>\n",
       "      <td>48</td>\n",
       "      <td>30.46</td>\n",
       "      <td>58</td>\n",
       "      <td>176.78</td>\n",
       "      <td>3.37</td>\n",
       "      <td>06:13:00</td>\n",
       "      <td>18:13:00</td>\n",
       "      <td>1475229023</td>\n",
       "    </tr>\n",
       "    <tr>\n",
       "      <th>2</th>\n",
       "      <td>2016-09-30 09:45:26</td>\n",
       "      <td>9/29/2016 12:00:00 AM</td>\n",
       "      <td>23:45:26</td>\n",
       "      <td>1.23</td>\n",
       "      <td>48</td>\n",
       "      <td>30.46</td>\n",
       "      <td>57</td>\n",
       "      <td>158.75</td>\n",
       "      <td>3.37</td>\n",
       "      <td>06:13:00</td>\n",
       "      <td>18:13:00</td>\n",
       "      <td>1475228726</td>\n",
       "    </tr>\n",
       "    <tr>\n",
       "      <th>3</th>\n",
       "      <td>2016-09-30 09:40:21</td>\n",
       "      <td>9/29/2016 12:00:00 AM</td>\n",
       "      <td>23:40:21</td>\n",
       "      <td>1.21</td>\n",
       "      <td>48</td>\n",
       "      <td>30.46</td>\n",
       "      <td>60</td>\n",
       "      <td>137.71</td>\n",
       "      <td>3.37</td>\n",
       "      <td>06:13:00</td>\n",
       "      <td>18:13:00</td>\n",
       "      <td>1475228421</td>\n",
       "    </tr>\n",
       "    <tr>\n",
       "      <th>4</th>\n",
       "      <td>2016-09-30 09:35:24</td>\n",
       "      <td>9/29/2016 12:00:00 AM</td>\n",
       "      <td>23:35:24</td>\n",
       "      <td>1.17</td>\n",
       "      <td>48</td>\n",
       "      <td>30.46</td>\n",
       "      <td>62</td>\n",
       "      <td>104.95</td>\n",
       "      <td>5.62</td>\n",
       "      <td>06:13:00</td>\n",
       "      <td>18:13:00</td>\n",
       "      <td>1475228124</td>\n",
       "    </tr>\n",
       "  </tbody>\n",
       "</table>\n",
       "</div>"
      ],
      "text/plain": [
       "             UNIXTime                   Data      Time  Radiation  \\\n",
       "0 2016-09-30 09:55:26  9/29/2016 12:00:00 AM  23:55:26       1.21   \n",
       "1 2016-09-30 09:50:23  9/29/2016 12:00:00 AM  23:50:23       1.21   \n",
       "2 2016-09-30 09:45:26  9/29/2016 12:00:00 AM  23:45:26       1.23   \n",
       "3 2016-09-30 09:40:21  9/29/2016 12:00:00 AM  23:40:21       1.21   \n",
       "4 2016-09-30 09:35:24  9/29/2016 12:00:00 AM  23:35:24       1.17   \n",
       "\n",
       "   Temperature  Pressure  Humidity  WindDirection(Degrees)  Speed TimeSunRise  \\\n",
       "0           48     30.46        59                  177.39   5.62    06:13:00   \n",
       "1           48     30.46        58                  176.78   3.37    06:13:00   \n",
       "2           48     30.46        57                  158.75   3.37    06:13:00   \n",
       "3           48     30.46        60                  137.71   3.37    06:13:00   \n",
       "4           48     30.46        62                  104.95   5.62    06:13:00   \n",
       "\n",
       "  TimeSunSet        UNIX  \n",
       "0   18:13:00  1475229326  \n",
       "1   18:13:00  1475229023  \n",
       "2   18:13:00  1475228726  \n",
       "3   18:13:00  1475228421  \n",
       "4   18:13:00  1475228124  "
      ]
     },
     "execution_count": 31,
     "metadata": {},
     "output_type": "execute_result"
    }
   ],
   "source": [
    "data.head()"
   ]
  },
  {
   "cell_type": "code",
   "execution_count": 32,
   "metadata": {},
   "outputs": [],
   "source": [
    "data['UNIXTime']=data.UNIXTime.dt.floor(\"min\")"
   ]
  },
  {
   "cell_type": "code",
   "execution_count": 34,
   "metadata": {},
   "outputs": [],
   "source": [
    "data=data.set_index('UNIXTime',inplace=False)"
   ]
  },
  {
   "cell_type": "code",
   "execution_count": 35,
   "metadata": {},
   "outputs": [
    {
     "data": {
      "text/html": [
       "<div>\n",
       "<style scoped>\n",
       "    .dataframe tbody tr th:only-of-type {\n",
       "        vertical-align: middle;\n",
       "    }\n",
       "\n",
       "    .dataframe tbody tr th {\n",
       "        vertical-align: top;\n",
       "    }\n",
       "\n",
       "    .dataframe thead th {\n",
       "        text-align: right;\n",
       "    }\n",
       "</style>\n",
       "<table border=\"1\" class=\"dataframe\">\n",
       "  <thead>\n",
       "    <tr style=\"text-align: right;\">\n",
       "      <th></th>\n",
       "      <th>Data</th>\n",
       "      <th>Time</th>\n",
       "      <th>Radiation</th>\n",
       "      <th>Temperature</th>\n",
       "      <th>Pressure</th>\n",
       "      <th>Humidity</th>\n",
       "      <th>WindDirection(Degrees)</th>\n",
       "      <th>Speed</th>\n",
       "      <th>TimeSunRise</th>\n",
       "      <th>TimeSunSet</th>\n",
       "      <th>UNIX</th>\n",
       "    </tr>\n",
       "    <tr>\n",
       "      <th>UNIXTime</th>\n",
       "      <th></th>\n",
       "      <th></th>\n",
       "      <th></th>\n",
       "      <th></th>\n",
       "      <th></th>\n",
       "      <th></th>\n",
       "      <th></th>\n",
       "      <th></th>\n",
       "      <th></th>\n",
       "      <th></th>\n",
       "      <th></th>\n",
       "    </tr>\n",
       "  </thead>\n",
       "  <tbody>\n",
       "    <tr>\n",
       "      <th>2016-09-30 09:55:00</th>\n",
       "      <td>9/29/2016 12:00:00 AM</td>\n",
       "      <td>23:55:26</td>\n",
       "      <td>1.21</td>\n",
       "      <td>48</td>\n",
       "      <td>30.46</td>\n",
       "      <td>59</td>\n",
       "      <td>177.39</td>\n",
       "      <td>5.62</td>\n",
       "      <td>06:13:00</td>\n",
       "      <td>18:13:00</td>\n",
       "      <td>1475229326</td>\n",
       "    </tr>\n",
       "    <tr>\n",
       "      <th>2016-09-30 09:50:00</th>\n",
       "      <td>9/29/2016 12:00:00 AM</td>\n",
       "      <td>23:50:23</td>\n",
       "      <td>1.21</td>\n",
       "      <td>48</td>\n",
       "      <td>30.46</td>\n",
       "      <td>58</td>\n",
       "      <td>176.78</td>\n",
       "      <td>3.37</td>\n",
       "      <td>06:13:00</td>\n",
       "      <td>18:13:00</td>\n",
       "      <td>1475229023</td>\n",
       "    </tr>\n",
       "    <tr>\n",
       "      <th>2016-09-30 09:45:00</th>\n",
       "      <td>9/29/2016 12:00:00 AM</td>\n",
       "      <td>23:45:26</td>\n",
       "      <td>1.23</td>\n",
       "      <td>48</td>\n",
       "      <td>30.46</td>\n",
       "      <td>57</td>\n",
       "      <td>158.75</td>\n",
       "      <td>3.37</td>\n",
       "      <td>06:13:00</td>\n",
       "      <td>18:13:00</td>\n",
       "      <td>1475228726</td>\n",
       "    </tr>\n",
       "    <tr>\n",
       "      <th>2016-09-30 09:40:00</th>\n",
       "      <td>9/29/2016 12:00:00 AM</td>\n",
       "      <td>23:40:21</td>\n",
       "      <td>1.21</td>\n",
       "      <td>48</td>\n",
       "      <td>30.46</td>\n",
       "      <td>60</td>\n",
       "      <td>137.71</td>\n",
       "      <td>3.37</td>\n",
       "      <td>06:13:00</td>\n",
       "      <td>18:13:00</td>\n",
       "      <td>1475228421</td>\n",
       "    </tr>\n",
       "    <tr>\n",
       "      <th>2016-09-30 09:35:00</th>\n",
       "      <td>9/29/2016 12:00:00 AM</td>\n",
       "      <td>23:35:24</td>\n",
       "      <td>1.17</td>\n",
       "      <td>48</td>\n",
       "      <td>30.46</td>\n",
       "      <td>62</td>\n",
       "      <td>104.95</td>\n",
       "      <td>5.62</td>\n",
       "      <td>06:13:00</td>\n",
       "      <td>18:13:00</td>\n",
       "      <td>1475228124</td>\n",
       "    </tr>\n",
       "  </tbody>\n",
       "</table>\n",
       "</div>"
      ],
      "text/plain": [
       "                                      Data      Time  Radiation  Temperature  \\\n",
       "UNIXTime                                                                       \n",
       "2016-09-30 09:55:00  9/29/2016 12:00:00 AM  23:55:26       1.21           48   \n",
       "2016-09-30 09:50:00  9/29/2016 12:00:00 AM  23:50:23       1.21           48   \n",
       "2016-09-30 09:45:00  9/29/2016 12:00:00 AM  23:45:26       1.23           48   \n",
       "2016-09-30 09:40:00  9/29/2016 12:00:00 AM  23:40:21       1.21           48   \n",
       "2016-09-30 09:35:00  9/29/2016 12:00:00 AM  23:35:24       1.17           48   \n",
       "\n",
       "                     Pressure  Humidity  WindDirection(Degrees)  Speed  \\\n",
       "UNIXTime                                                                 \n",
       "2016-09-30 09:55:00     30.46        59                  177.39   5.62   \n",
       "2016-09-30 09:50:00     30.46        58                  176.78   3.37   \n",
       "2016-09-30 09:45:00     30.46        57                  158.75   3.37   \n",
       "2016-09-30 09:40:00     30.46        60                  137.71   3.37   \n",
       "2016-09-30 09:35:00     30.46        62                  104.95   5.62   \n",
       "\n",
       "                    TimeSunRise TimeSunSet        UNIX  \n",
       "UNIXTime                                                \n",
       "2016-09-30 09:55:00    06:13:00   18:13:00  1475229326  \n",
       "2016-09-30 09:50:00    06:13:00   18:13:00  1475229023  \n",
       "2016-09-30 09:45:00    06:13:00   18:13:00  1475228726  \n",
       "2016-09-30 09:40:00    06:13:00   18:13:00  1475228421  \n",
       "2016-09-30 09:35:00    06:13:00   18:13:00  1475228124  "
      ]
     },
     "execution_count": 35,
     "metadata": {},
     "output_type": "execute_result"
    }
   ],
   "source": [
    "data.head()"
   ]
  },
  {
   "cell_type": "code",
   "execution_count": 52,
   "metadata": {},
   "outputs": [],
   "source": [
    "data.index=data.index.to_period(\"5min\")"
   ]
  },
  {
   "cell_type": "code",
   "execution_count": 59,
   "metadata": {},
   "outputs": [
    {
     "data": {
      "text/html": [
       "<div>\n",
       "<style scoped>\n",
       "    .dataframe tbody tr th:only-of-type {\n",
       "        vertical-align: middle;\n",
       "    }\n",
       "\n",
       "    .dataframe tbody tr th {\n",
       "        vertical-align: top;\n",
       "    }\n",
       "\n",
       "    .dataframe thead th {\n",
       "        text-align: right;\n",
       "    }\n",
       "</style>\n",
       "<table border=\"1\" class=\"dataframe\">\n",
       "  <thead>\n",
       "    <tr style=\"text-align: right;\">\n",
       "      <th></th>\n",
       "      <th>Data</th>\n",
       "      <th>Time</th>\n",
       "      <th>Radiation</th>\n",
       "      <th>Temperature</th>\n",
       "      <th>Pressure</th>\n",
       "      <th>Humidity</th>\n",
       "      <th>WindDirection(Degrees)</th>\n",
       "      <th>Speed</th>\n",
       "      <th>TimeSunRise</th>\n",
       "      <th>TimeSunSet</th>\n",
       "      <th>UNIX</th>\n",
       "    </tr>\n",
       "    <tr>\n",
       "      <th>UNIXTime</th>\n",
       "      <th></th>\n",
       "      <th></th>\n",
       "      <th></th>\n",
       "      <th></th>\n",
       "      <th></th>\n",
       "      <th></th>\n",
       "      <th></th>\n",
       "      <th></th>\n",
       "      <th></th>\n",
       "      <th></th>\n",
       "      <th></th>\n",
       "    </tr>\n",
       "  </thead>\n",
       "  <tbody>\n",
       "    <tr>\n",
       "      <th>2016-09-30 09:55</th>\n",
       "      <td>9/29/2016 12:00:00 AM</td>\n",
       "      <td>23:55:26</td>\n",
       "      <td>1.21</td>\n",
       "      <td>48</td>\n",
       "      <td>30.46</td>\n",
       "      <td>59</td>\n",
       "      <td>177.39</td>\n",
       "      <td>5.62</td>\n",
       "      <td>06:13:00</td>\n",
       "      <td>18:13:00</td>\n",
       "      <td>1475229326</td>\n",
       "    </tr>\n",
       "    <tr>\n",
       "      <th>2016-09-30 09:50</th>\n",
       "      <td>9/29/2016 12:00:00 AM</td>\n",
       "      <td>23:50:23</td>\n",
       "      <td>1.21</td>\n",
       "      <td>48</td>\n",
       "      <td>30.46</td>\n",
       "      <td>58</td>\n",
       "      <td>176.78</td>\n",
       "      <td>3.37</td>\n",
       "      <td>06:13:00</td>\n",
       "      <td>18:13:00</td>\n",
       "      <td>1475229023</td>\n",
       "    </tr>\n",
       "    <tr>\n",
       "      <th>2016-09-30 09:45</th>\n",
       "      <td>9/29/2016 12:00:00 AM</td>\n",
       "      <td>23:45:26</td>\n",
       "      <td>1.23</td>\n",
       "      <td>48</td>\n",
       "      <td>30.46</td>\n",
       "      <td>57</td>\n",
       "      <td>158.75</td>\n",
       "      <td>3.37</td>\n",
       "      <td>06:13:00</td>\n",
       "      <td>18:13:00</td>\n",
       "      <td>1475228726</td>\n",
       "    </tr>\n",
       "    <tr>\n",
       "      <th>2016-09-30 09:40</th>\n",
       "      <td>9/29/2016 12:00:00 AM</td>\n",
       "      <td>23:40:21</td>\n",
       "      <td>1.21</td>\n",
       "      <td>48</td>\n",
       "      <td>30.46</td>\n",
       "      <td>60</td>\n",
       "      <td>137.71</td>\n",
       "      <td>3.37</td>\n",
       "      <td>06:13:00</td>\n",
       "      <td>18:13:00</td>\n",
       "      <td>1475228421</td>\n",
       "    </tr>\n",
       "    <tr>\n",
       "      <th>2016-09-30 09:35</th>\n",
       "      <td>9/29/2016 12:00:00 AM</td>\n",
       "      <td>23:35:24</td>\n",
       "      <td>1.17</td>\n",
       "      <td>48</td>\n",
       "      <td>30.46</td>\n",
       "      <td>62</td>\n",
       "      <td>104.95</td>\n",
       "      <td>5.62</td>\n",
       "      <td>06:13:00</td>\n",
       "      <td>18:13:00</td>\n",
       "      <td>1475228124</td>\n",
       "    </tr>\n",
       "  </tbody>\n",
       "</table>\n",
       "</div>"
      ],
      "text/plain": [
       "                                   Data      Time  Radiation  Temperature  \\\n",
       "UNIXTime                                                                    \n",
       "2016-09-30 09:55  9/29/2016 12:00:00 AM  23:55:26       1.21           48   \n",
       "2016-09-30 09:50  9/29/2016 12:00:00 AM  23:50:23       1.21           48   \n",
       "2016-09-30 09:45  9/29/2016 12:00:00 AM  23:45:26       1.23           48   \n",
       "2016-09-30 09:40  9/29/2016 12:00:00 AM  23:40:21       1.21           48   \n",
       "2016-09-30 09:35  9/29/2016 12:00:00 AM  23:35:24       1.17           48   \n",
       "\n",
       "                  Pressure  Humidity  WindDirection(Degrees)  Speed  \\\n",
       "UNIXTime                                                              \n",
       "2016-09-30 09:55     30.46        59                  177.39   5.62   \n",
       "2016-09-30 09:50     30.46        58                  176.78   3.37   \n",
       "2016-09-30 09:45     30.46        57                  158.75   3.37   \n",
       "2016-09-30 09:40     30.46        60                  137.71   3.37   \n",
       "2016-09-30 09:35     30.46        62                  104.95   5.62   \n",
       "\n",
       "                 TimeSunRise TimeSunSet        UNIX  \n",
       "UNIXTime                                             \n",
       "2016-09-30 09:55    06:13:00   18:13:00  1475229326  \n",
       "2016-09-30 09:50    06:13:00   18:13:00  1475229023  \n",
       "2016-09-30 09:45    06:13:00   18:13:00  1475228726  \n",
       "2016-09-30 09:40    06:13:00   18:13:00  1475228421  \n",
       "2016-09-30 09:35    06:13:00   18:13:00  1475228124  "
      ]
     },
     "execution_count": 59,
     "metadata": {},
     "output_type": "execute_result"
    }
   ],
   "source": [
    "data.head()"
   ]
  },
  {
   "cell_type": "code",
   "execution_count": 64,
   "metadata": {},
   "outputs": [
    {
     "data": {
      "text/plain": [
       "<matplotlib.collections.PathCollection at 0x26059fb94c0>"
      ]
     },
     "execution_count": 64,
     "metadata": {},
     "output_type": "execute_result"
    },
    {
     "data": {
      "image/png": "[encoded data removed]",
      "text/plain": [
       "<Figure size 432x288 with 1 Axes>"
      ]
     },
     "metadata": {
      "needs_background": "light"
     },
     "output_type": "display_data"
    }
   ],
   "source": [
    "plt.scatter(np.arange(0,len(data)),data['UNIX'])"
   ]
  },
  {
   "cell_type": "code",
   "execution_count": 65,
   "metadata": {},
   "outputs": [],
   "source": [
    "data=data.sort_values(by=['UNIX'])"
   ]
  },
  {
   "cell_type": "code",
   "execution_count": 66,
   "metadata": {},
   "outputs": [
    {
     "data": {
      "text/plain": [
       "<matplotlib.collections.PathCollection at 0x26059ff9070>"
      ]
     },
     "execution_count": 66,
     "metadata": {},
     "output_type": "execute_result"
    },
    {
     "data": {
      "image/png": "[encoded data removed]",
      "text/plain": [
       "<Figure size 432x288 with 1 Axes>"
      ]
     },
     "metadata": {
      "needs_background": "light"
     },
     "output_type": "display_data"
    }
   ],
   "source": [
    "plt.scatter(np.arange(0,len(data)),data['UNIX'])"
   ]
  },
  {
   "cell_type": "code",
   "execution_count": 41,
   "metadata": {},
   "outputs": [],
   "source": [
    "def lets_drop_some_data_multy(X,num_skip):\n",
    "    ind_skip=random.randint(0,len(X))\n",
    "    i=ind_skip\n",
    "    size=ind_skip+num_skip\n",
    "    while i <(ind_skip+num_skip):\n",
    "        if X['Radiation'][i]!=np.nan:\n",
    "            X['Radiation'][i]=np.nan\n",
    "            i+=1\n",
    "            \n",
    "    return X,ind_skip,size"
   ]
  },
  {
   "cell_type": "code",
   "execution_count": 42,
   "metadata": {},
   "outputs": [],
   "source": [
    "def lets_make_num_prop(i,k):\n",
    "    len_prop=i\n",
    "    num_of_props=k\n",
    "    data_droped=data.copy(deep=True)\n",
    "    \n",
    "    number_props=0\n",
    "    \n",
    "    ind_skipped=([])\n",
    "    \n",
    "    while number_props< num_of_props:\n",
    "        data_droped,st,ed=lets_drop_some_data_multy(data_droped,len_prop)\n",
    "        ind_skipped.append((st,ed))\n",
    "        number_props+=1\n",
    "   \n",
    "    return ind_skipped,data_droped"
   ]
  },
  {
   "cell_type": "code",
   "execution_count": 67,
   "metadata": {},
   "outputs": [
    {
     "name": "stderr",
     "output_type": "stream",
     "text": [
      "<ipython-input-41-a44e8c1941bf>:7: SettingWithCopyWarning: \n",
      "A value is trying to be set on a copy of a slice from a DataFrame\n",
      "\n",
      "See the caveats in the documentation: https://pandas.pydata.org/pandas-docs/stable/user_guide/indexing.html#returning-a-view-versus-a-copy\n",
      "  X['Radiation'][i]=np.nan\n"
     ]
    }
   ],
   "source": [
    "x,data_prop=lets_make_num_prop(10,100)"
   ]
  },
  {
   "cell_type": "code",
   "execution_count": 68,
   "metadata": {},
   "outputs": [
    {
     "name": "stdout",
     "output_type": "stream",
     "text": [
      "[(20371, 20381), (5150, 5160), (8822, 8832), (12352, 12362), (20672, 20682), (22690, 22700), (32071, 32081), (29465, 29475), (8955, 8965), (31714, 31724), (24967, 24977), (23994, 24004), (17746, 17756), (31976, 31986), (158, 168), (10185, 10195), (9229, 9239), (27765, 27775), (3291, 3301), (5123, 5133), (25194, 25204), (22501, 22511), (7382, 7392), (3047, 3057), (25830, 25840), (20210, 20220), (30452, 30462), (21863, 21873), (16028, 16038), (15899, 15909), (10648, 10658), (29668, 29678), (24931, 24941), (925, 935), (383, 393), (19358, 19368), (5421, 5431), (18344, 18354), (2697, 2707), (31251, 31261), (32040, 32050), (11359, 11369), (16451, 16461), (12940, 12950), (29820, 29830), (29042, 29052), (19626, 19636), (5020, 5030), (2563, 2573), (20372, 20382), (5616, 5626), (988, 998), (28415, 28425), (13342, 13352), (16213, 16223), (2783, 2793), (22980, 22990), (10921, 10931), (10211, 10221), (14591, 14601), (22432, 22442), (22230, 22240), (26774, 26784), (15934, 15944), (831, 841), (6590, 6600), (26646, 26656), (6343, 6353), (25547, 25557), (11796, 11806), (18478, 18488), (31832, 31842), (28970, 28980), (1481, 1491), (16449, 16459), (22582, 22592), (31316, 31326), (10635, 10645), (26148, 26158), (16730, 16740), (10339, 10349), (14966, 14976), (27598, 27608), (14770, 14780), (8361, 8371), (23860, 23870), (31659, 31669), (14336, 14346), (26852, 26862), (24694, 24704), (6858, 6868), (18339, 18349), (17785, 17795), (18066, 18076), (195, 205), (28169, 28179), (17863, 17873), (28686, 28696), (27929, 27939), (12965, 12975)]\n"
     ]
    }
   ],
   "source": [
    "print(x)"
   ]
  },
  {
   "cell_type": "code",
   "execution_count": null,
   "metadata": {},
   "outputs": [],
   "source": [
    "data_int_forest=data_prop.copy(deep=True)\n",
    "data_int_arima=data_prop.copy(deep=True)\n",
    "data_int_autoreg=data_prop.copy(deep=True)"
   ]
  },
  {
   "cell_type": "code",
   "execution_count": null,
   "metadata": {},
   "outputs": [],
   "source": [
    "data_study=data_prop.copy(deep=True)\n",
    "data_study=data_study.dropna"
   ]
  },
  {
   "cell_type": "code",
   "execution_count": 84,
   "metadata": {},
   "outputs": [
    {
     "name": "stdout",
     "output_type": "stream",
     "text": [
      "[5 6 7 8 9]\n"
     ]
    }
   ],
   "source": [
    "exog_params_multy = data_study[['Temperature', 'Pressure','Humidity']]\n",
    "    \n",
    "model = ARIMA(endog=data_study['Radiation'],exog=exog_params_multy,order=(2, 1, 1))\n",
    "model_fit = model.fit()"
   ]
  },
  {
   "cell_type": "code",
   "execution_count": null,
   "metadata": {},
   "outputs": [],
   "source": [
    "model_autoreg = AutoReg(data_study['Radiation'], lags=33,exog=exog_params_multy, seasonal=False)\n",
    "model_autoreg_fit = model_autoreg.fit()"
   ]
  },
  {
   "cell_type": "code",
   "execution_count": null,
   "metadata": {},
   "outputs": [],
   "source": [
    "for i in range(len(x)):\n",
    "    exog_params=data[['Temperature', 'Pressure','Humidity']][x[i][0]: x[i][1]]\n",
    "    int_arima=model_fit.predict(start=x[i][0], end=[i][1],exog=exog_params)\n",
    "    int_autoreg=model_fit.predict(start=x[i][0], end=[i][1],exog=exog_params)\n",
    "    data_int_arima['Radiation'][x[i][0]: x[i][1]]=int_arima\n",
    "    data_int_autoreg['Radiation'][x[i][0]: x[i][1]]=int_autoreg\n",
    "    "
   ]
  },
  {
   "cell_type": "code",
   "execution_count": null,
   "metadata": {},
   "outputs": [],
   "source": [
    "mse_ARIMA=mean_squared_error(data['Radiation'],data_int_arima['Radiation'])"
   ]
  },
  {
   "cell_type": "code",
   "execution_count": null,
   "metadata": {},
   "outputs": [],
   "source": [
    "mse_autoreg=mean_squared_error(data['Radiation'],data_int_autoreg['Radiation'])"
   ]
  },
  {
   "cell_type": "code",
   "execution_count": 69,
   "metadata": {},
   "outputs": [],
   "source": [
    "data_study=data_prop.copy(deep=True)\n",
    "data_study=data_study.dropna)("
   ]
  },
  {
   "cell_type": "code",
   "execution_count": 70,
   "metadata": {},
   "outputs": [],
   "source": [
    "exog_params_multy = data_study[['Temperature', 'Pressure','Humidity']]\n",
    "    \n",
    "model = ARIMA(endog=data_study['Radiation'],exog=exog_params_multy,order=(2, 1, 1))\n",
    "model_fit = model.fit()"
   ]
  },
  {
   "cell_type": "code",
   "execution_count": 71,
   "metadata": {},
   "outputs": [],
   "source": [
    "exog_params=data[['Temperature', 'Pressure','Humidity']][20371: 20381]"
   ]
  },
  {
   "cell_type": "code",
   "execution_count": 72,
   "metadata": {},
   "outputs": [
    {
     "name": "stdout",
     "output_type": "stream",
     "text": [
      "                  Temperature  Pressure  Humidity\n",
      "UNIXTime                                         \n",
      "2016-11-15 18:50           52     30.48        70\n",
      "2016-11-15 18:55           52     30.47        72\n",
      "2016-11-15 19:00           52     30.48        74\n",
      "2016-11-15 19:05           53     30.48        75\n",
      "2016-11-15 19:10           53     30.48        79\n",
      "2016-11-15 19:15           53     30.49        81\n",
      "2016-11-15 19:20           53     30.49        82\n",
      "2016-11-15 19:25           54     30.49        85\n",
      "2016-11-15 19:30           53     30.49        88\n",
      "2016-11-15 19:35           53     30.49        91\n"
     ]
    }
   ],
   "source": [
    "print(exog_params)"
   ]
  },
  {
   "cell_type": "code",
   "execution_count": 73,
   "metadata": {},
   "outputs": [],
   "source": [
    "int_arima=model_fit.predict(start=20371, end=20381,exog=exog_params)"
   ]
  },
  {
   "cell_type": "code",
   "execution_count": 74,
   "metadata": {},
   "outputs": [
    {
     "name": "stdout",
     "output_type": "stream",
     "text": [
      "UNIXTime\n",
      "2016-11-17 19:55    637.169943\n",
      "2016-11-17 20:00    670.188307\n",
      "2016-11-17 20:05    698.379927\n",
      "2016-11-17 20:10    745.350202\n",
      "2016-11-17 20:15    759.105793\n",
      "2016-11-17 20:20    694.675331\n",
      "2016-11-17 20:25    806.731159\n",
      "2016-11-17 20:30    834.115411\n",
      "2016-11-17 20:35    603.969552\n",
      "2016-11-17 20:40    651.793913\n",
      "2016-11-17 20:45    771.797476\n",
      "Freq: 5T, Name: predicted_mean, dtype: float64\n"
     ]
    }
   ],
   "source": [
    "print(int_arima)"
   ]
  },
  {
   "cell_type": "code",
   "execution_count": 75,
   "metadata": {},
   "outputs": [
    {
     "name": "stderr",
     "output_type": "stream",
     "text": [
      "C:\\Users\\Vi\\anaconda3\\lib\\site-packages\\statsmodels\\tsa\\ar_model.py:248: FutureWarning: The parameter names will change after 0.12 is released. Set old_names to False to use the new names now. Set old_names to True to use the old names. \n",
      "  warnings.warn(\n"
     ]
    }
   ],
   "source": [
    "model_autoreg = AutoReg(data_study['Radiation'], lags=33,exog=exog_params_multy, seasonal=False)\n",
    "model_autoreg_fit = model_autoreg.fit()"
   ]
  },
  {
   "cell_type": "code",
   "execution_count": 76,
   "metadata": {},
   "outputs": [],
   "source": [
    "int_auto=model_fit.predict(start=20371, end=20381,exog=exog_params)"
   ]
  },
  {
   "cell_type": "code",
   "execution_count": 77,
   "metadata": {},
   "outputs": [
    {
     "name": "stdout",
     "output_type": "stream",
     "text": [
      "UNIXTime\n",
      "2016-11-17 19:55    637.169943\n",
      "2016-11-17 20:00    670.188307\n",
      "2016-11-17 20:05    698.379927\n",
      "2016-11-17 20:10    745.350202\n",
      "2016-11-17 20:15    759.105793\n",
      "2016-11-17 20:20    694.675331\n",
      "2016-11-17 20:25    806.731159\n",
      "2016-11-17 20:30    834.115411\n",
      "2016-11-17 20:35    603.969552\n",
      "2016-11-17 20:40    651.793913\n",
      "2016-11-17 20:45    771.797476\n",
      "Freq: 5T, Name: predicted_mean, dtype: float64\n"
     ]
    }
   ],
   "source": [
    "print(int_auto)"
   ]
  },
  {
   "cell_type": "code",
   "execution_count": null,
   "metadata": {},
   "outputs": [],
   "source": []
  }
 ],
 "metadata": {
  "kernelspec": {
   "display_name": "Python 3",
   "language": "python",
   "name": "python3"
  },
  "language_info": {
   "codemirror_mode": {
    "name": "ipython",
    "version": 3
   },
   "file_extension": ".py",
   "mimetype": "text/x-python",
   "name": "python",
   "nbconvert_exporter": "python",
   "pygments_lexer": "ipython3",
   "version": "3.8.5"
  }
 },
 "nbformat": 4,
 "nbformat_minor": 4
}
